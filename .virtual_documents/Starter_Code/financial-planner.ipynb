


# Initial imports
import os
import requests
import json
import datetime 
import pandas as pd
from dotenv import load_dotenv
import alpaca_trade_api as tradeapi
from MCForecastTools import MCSimulation

%matplotlib inline


# Load .env enviroment variables
load_dotenv()








# Set current amount of crypto assets
BTC_assets = 1.2
ETH_assets = 5.3


# Crypto API URLs
btc_url = "https://api.alternative.me/v2/ticker/Bitcoin/?convert=USD"
eth_url = "https://api.alternative.me/v2/ticker/Ethereum/?convert=USD"


# Fetch current BTC price
response_btc = requests.get(btc_url)
btc_data = response_btc.json()
# Fetch current ETH price
response_eth = requests.get(eth_url)
eth_data = response_eth.json()

# Compute current value of my crpto
##BTC
if response_btc.status_code == 200:
    my_btc_value = BTC_assets * btc_data['data']['1']['quotes']['USD']['price']
    
##ETH
if response_eth.status_code == 200:
    my_eth_value = ETH_assets * eth_data['data']['1027']['quotes']['USD']['price']


# Print current crypto wallet balance
print(f"The current value of your {BTC_assets} BTC is ${my_btc_value:0.2f}")
print(f"The current value of your {ETH_assets} ETH is ${my_eth_value:0.2f}")





# Set current amount of shares
my_agg = 200
my_spy = 50


# Set Alpaca API key and secret
alpaca_api_key = os.getenv("ALPACA_API_KEY")
alpaca_secret_key = os.getenv("ALPACA_SECRET_KEY")

# Create the Alpaca API object
alpaca = tradeapi.REST(
    alpaca_api_key,
    alpaca_secret_key,
    api_version="v2")



# Format current date as ISO format
current_date_iso = datetime.date.today().isoformat()

# Define the tickers
tickers = ["AGG", "SPY"]

# Set the timeframe
timeframe = "1D"  # Daily bars

# Fetch bar data for the tickers
bars = alpaca.get_bars(
    tickers,
    timeframe,
    limit=5
)  # Fetch 5 days of data

# Extract closing prices into separate DataFrames
dfs = []

for ticker in tickers:
    if bars[ticker]:
        # Extract closing prices for the current ticker
        closing_prices = pd.DataFrame({ticker: [bar.close for bar in bars[ticker]]})
        dfs.append(closing_prices)

# Concatenate the DataFrames along the columns axis
combined_df = pd.concat(dfs, axis=1)

# Print the concatenated DataFrame
print("Combined DataFrame:")
print(combined_df)


# Pick AGG and SPY close prices
# YOUR CODE HERE!

# Print AGG and SPY close prices
print(f"Current AGG closing price: ${agg_close_price}")
print(f"Current SPY closing price: ${spy_close_price}")


# Compute the current value of shares
# YOUR CODE HERE!

# Print current value of shares
print(f"The current value of your {my_spy} SPY shares is ${my_spy_value:0.2f}")
print(f"The current value of your {my_agg} AGG shares is ${my_agg_value:0.2f}")





# Set monthly household income
# YOUR CODE HERE!

# Consolidate financial assets data
# YOUR CODE HERE!

# Create savings DataFrame
# YOUR CODE HERE!

# Display savings DataFrame
display(df_savings)


# Plot savings pie chart
# YOUR CODE HERE!


# Set ideal emergency fund
emergency_fund = monthly_income * 3

# Calculate total amount of savings
# YOUR CODE HERE!

# Validate saving health
# YOUR CODE HERE!





# Set start and end dates of five years back from today.
# Sample results may vary from the solution based on the time frame chosen
start_date = pd.Timestamp('2016-05-01', tz='America/New_York').isoformat()
end_date = pd.Timestamp('2021-05-01', tz='America/New_York').isoformat()


# Get 5 years' worth of historical data for SPY and AGG
# YOUR CODE HERE!

# Reorganize the DataFrame
# Separate ticker data
# YOUR CODE HERE!


# Concatenate the ticker DataFrames
# YOUR CODE HERE!

# Display sample data
df_stock_data.head()


# Configuring a Monte Carlo simulation to forecast 30 years cumulative returns
# YOUR CODE HERE!


# Printing the simulation input data
# YOUR CODE HERE!


# Running a Monte Carlo simulation to forecast 30 years cumulative returns
# YOUR CODE HERE!


# Plot simulation outcomes
# YOUR CODE HERE!


# Plot probability distribution and confidence intervals
# YOUR CODE HERE!





# Fetch summary statistics from the Monte Carlo simulation results
# YOUR CODE HERE!

# Print summary statistics
# YOUR CODE HERE!





# Set initial investment
initial_investment = 20000

# Use the lower and upper `95%` confidence intervals to calculate the range of the possible outcomes of our $20,000
# YOUR CODE HERE!

# Print results
print(f"There is a 95% chance that an initial investment of ${initial_investment} in the portfolio"
      f" over the next 30 years will end within in the range of"
      f" ${ci_lower} and ${ci_upper}")





# Set initial investment
initial_investment = 20000 * 1.5

# Use the lower and upper `95%` confidence intervals to calculate the range of the possible outcomes of our $30,000
# YOUR CODE HERE!

# Print results
print(f"There is a 95% chance that an initial investment of ${initial_investment} in the portfolio"
      f" over the next 30 years will end within in the range of"
      f" ${ci_lower} and ${ci_upper}")





# Configuring a Monte Carlo simulation to forecast 5 years cumulative returns
# YOUR CODE HERE!


# Running a Monte Carlo simulation to forecast 5 years cumulative returns
# YOUR CODE HERE!


# Plot simulation outcomes
# YOUR CODE HERE!


# Plot probability distribution and confidence intervals
# YOUR CODE HERE!


# Fetch summary statistics from the Monte Carlo simulation results
# YOUR CODE HERE!

# Print summary statistics
# YOUR CODE HERE!


# Set initial investment
# YOUR CODE HERE!

# Use the lower and upper `95%` confidence intervals to calculate the range of the possible outcomes of our $60,000
# YOUR CODE HERE!

# Print results
print(f"There is a 95% chance that an initial investment of ${initial_investment} in the portfolio"
      f" over the next 5 years will end within in the range of"
      f" ${ci_lower_five} and ${ci_upper_five}")





# Configuring a Monte Carlo simulation to forecast 10 years cumulative returns
# YOUR CODE HERE!


# Running a Monte Carlo simulation to forecast 10 years cumulative returns
# YOUR CODE HERE!


# Plot simulation outcomes
# YOUR CODE HERE!


# Plot probability distribution and confidence intervals
# YOUR CODE HERE!


# Fetch summary statistics from the Monte Carlo simulation results
# YOUR CODE HERE!

# Print summary statistics
# YOUR CODE HERE!


# Set initial investment
# YOUR CODE HERE!

# Use the lower and upper `95%` confidence intervals to calculate the range of the possible outcomes of our $60,000
# YOUR CODE HERE!

# Print results
print(f"There is a 95% chance that an initial investment of ${initial_investment} in the portfolio"
      f" over the next 10 years will end within in the range of"
      f" ${ci_lower_ten} and ${ci_upper_ten}")



